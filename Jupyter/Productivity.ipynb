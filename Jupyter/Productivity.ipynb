{
 "cells": [
  {
   "cell_type": "markdown",
   "metadata": {},
   "source": [
    "### Countdown Timer"
   ]
  },
  {
   "cell_type": "code",
   "execution_count": 6,
   "metadata": {},
   "outputs": [
    {
     "name": "stdout",
     "output_type": "stream",
     "text": [
      "00:00     "
     ]
    },
    {
     "data": {
      "text/html": [
       "\n",
       "                <audio controls=\"controls\" autoplay=\"autoplay\">\n",
       "                    <source src=\"submarineping.wav\" type=\"audio/wav\" />\n",
       "                    Your browser does not support the audio element.\n",
       "                </audio>\n",
       "              "
      ],
      "text/plain": [
       "<IPython.lib.display.Audio object>"
      ]
     },
     "metadata": {},
     "output_type": "display_data"
    },
    {
     "data": {
      "text/html": [
       "\n",
       "                <audio controls=\"controls\" autoplay=\"autoplay\">\n",
       "                    <source src=\"submarineping.wav\" type=\"audio/wav\" />\n",
       "                    Your browser does not support the audio element.\n",
       "                </audio>\n",
       "              "
      ],
      "text/plain": [
       "<IPython.lib.display.Audio object>"
      ]
     },
     "metadata": {},
     "output_type": "display_data"
    },
    {
     "data": {
      "text/html": [
       "\n",
       "                <audio controls=\"controls\" autoplay=\"autoplay\">\n",
       "                    <source src=\"submarineping.wav\" type=\"audio/wav\" />\n",
       "                    Your browser does not support the audio element.\n",
       "                </audio>\n",
       "              "
      ],
      "text/plain": [
       "<IPython.lib.display.Audio object>"
      ]
     },
     "metadata": {},
     "output_type": "display_data"
    },
    {
     "name": "stdout",
     "output_type": "stream",
     "text": [
      " \r",
      "Goodbye!\n"
     ]
    }
   ],
   "source": [
    "HOURS   = 0;\n",
    "MINUTES = 0;\n",
    "SECONDS = 5;\n",
    "\n",
    "import time\n",
    "from IPython.display import Audio , display\n",
    "\n",
    "def countdown( H , M , S ):\n",
    "    \"\"\" Simple countdown timer \"\"\"\n",
    "    # Source: https://stackoverflow.com/a/31357170\n",
    "    i = M + H * 60\n",
    "    j = S\n",
    "    k = 0\n",
    "    while True:\n",
    "        if( j == -1 ):\n",
    "            j = 59\n",
    "            i -= 1\n",
    "        if( j > 9 ):  \n",
    "            print \"\\r\" + str(k) + str(i) + \":\" + str(j) ,\n",
    "        else:\n",
    "            print \"\\r\" + str(k) + str(i) + \":\" + str(k) + str(j) ,\n",
    "        time.sleep(1)\n",
    "        j -= 1\n",
    "        if( i == 0  and  j == -1 ):\n",
    "            break\n",
    "    if( i == 0  and  j == -1 ):\n",
    "        for i in xrange(3):\n",
    "            # Source: http://forums.fast.ai/t/sound-alerts-in-jupyter-for-code-completion-and-exceptions/4614\n",
    "            display( Audio( url = 'submarineping.wav' , autoplay = True ) )\n",
    "            time.sleep( 2 )\n",
    "        print \"\\rGoodbye!\"\n",
    "        time.sleep( 1 )\n",
    "        \n",
    "countdown( HOURS , MINUTES , SECONDS )"
   ]
  },
  {
   "cell_type": "code",
   "execution_count": null,
   "metadata": {},
   "outputs": [],
   "source": []
  },
  {
   "cell_type": "code",
   "execution_count": null,
   "metadata": {},
   "outputs": [],
   "source": []
  }
 ],
 "metadata": {
  "kernelspec": {
   "display_name": "Python 2",
   "language": "python",
   "name": "python2"
  },
  "language_info": {
   "codemirror_mode": {
    "name": "ipython",
    "version": 2
   },
   "file_extension": ".py",
   "mimetype": "text/x-python",
   "name": "python",
   "nbconvert_exporter": "python",
   "pygments_lexer": "ipython2",
   "version": "2.7.15"
  }
 },
 "nbformat": 4,
 "nbformat_minor": 2
}
